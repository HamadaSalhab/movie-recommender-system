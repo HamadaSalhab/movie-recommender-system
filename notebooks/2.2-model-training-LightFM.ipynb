{
 "cells": [
  {
   "cell_type": "markdown",
   "metadata": {},
   "source": [
    "# Model Building using LightFM Library:"
   ]
  },
  {
   "cell_type": "markdown",
   "metadata": {},
   "source": [
    "## Prepare Dataset:"
   ]
  },
  {
   "cell_type": "markdown",
   "metadata": {},
   "source": [
    "### Load the dataset: "
   ]
  },
  {
   "cell_type": "code",
   "execution_count": 4,
   "metadata": {},
   "outputs": [],
   "source": [
    "from lightfm import LightFM\n",
    "\n",
    "INTERIM_DATA_DIR = \"../data/interim/\""
   ]
  },
  {
   "cell_type": "code",
   "execution_count": 5,
   "metadata": {},
   "outputs": [],
   "source": [
    "import pandas as pd\n",
    "from sklearn.preprocessing import LabelEncoder\n",
    "\n",
    "merged_data = pd.read_csv(f\"{INTERIM_DATA_DIR}merged.csv\")\n",
    "\n",
    "# Encode categorical features like 'gender' and 'occupation' using label encoding\n",
    "gender_encoder = LabelEncoder()\n",
    "occupation_encoder = LabelEncoder()\n",
    "\n",
    "merged_data['gender'] = gender_encoder.fit_transform(merged_data['gender'])\n",
    "merged_data['occupation'] = occupation_encoder.fit_transform(\n",
    "    merged_data['occupation'])\n",
    "\n",
    "# Create a dataset for LightFM\n",
    "# For users and items, only their ids are needed\n",
    "user_ids = merged_data['user_id'].unique()\n",
    "item_ids = merged_data['movie_id'].unique()\n",
    "\n",
    "# Create the feature lists for users and items\n",
    "user_features = merged_data[['user_id', 'age',\n",
    "                             'gender', 'occupation', 'zip_code']].drop_duplicates()\n",
    "item_features = merged_data[['movie_id', 'movie_name', 'action', 'adventure', 'animation', \"children's\", 'comedy', 'crime', 'documentary', 'drama',\n",
    "                             'fantasy', 'film-noir', 'horror', 'musical', 'mystery', 'romance', 'sci-fi', 'thriller', 'war', 'western', 'release_year']].drop_duplicates()\n",
    "\n",
    "# Convert features to a list of strings, as required by LightFM\n",
    "user_features['features'] = user_features.apply(lambda x: [str(\n",
    "    x['age']), str(x['gender']), str(x['occupation']), x['zip_code']], axis=1)\n",
    "item_features['features'] = item_features.apply(\n",
    "    lambda x: [x['movie_name']] + list(x['action':'release_year'].astype(str)), axis=1)\n",
    "\n",
    "item_features = item_features[[\n",
    "    'movie_id', 'movie_name', 'release_year', 'features']]\n",
    "# Extract the interaction data\n",
    "interaction_data = merged_data[['user_id', 'movie_id', 'rating']]"
   ]
  },
  {
   "cell_type": "code",
   "execution_count": 6,
   "metadata": {},
   "outputs": [
    {
     "data": {
      "text/plain": [
       "['Kolya',\n",
       " '0',\n",
       " '0',\n",
       " '0',\n",
       " '0',\n",
       " '1',\n",
       " '0',\n",
       " '0',\n",
       " '0',\n",
       " '0',\n",
       " '0',\n",
       " '0',\n",
       " '0',\n",
       " '0',\n",
       " '0',\n",
       " '0',\n",
       " '0',\n",
       " '0',\n",
       " '0',\n",
       " '1997']"
      ]
     },
     "execution_count": 6,
     "metadata": {},
     "output_type": "execute_result"
    }
   ],
   "source": [
    "item_features.loc[0, 'features']"
   ]
  },
  {
   "cell_type": "code",
   "execution_count": 7,
   "metadata": {},
   "outputs": [
    {
     "data": {
      "text/html": [
       "<div>\n",
       "<style scoped>\n",
       "    .dataframe tbody tr th:only-of-type {\n",
       "        vertical-align: middle;\n",
       "    }\n",
       "\n",
       "    .dataframe tbody tr th {\n",
       "        vertical-align: top;\n",
       "    }\n",
       "\n",
       "    .dataframe thead th {\n",
       "        text-align: right;\n",
       "    }\n",
       "</style>\n",
       "<table border=\"1\" class=\"dataframe\">\n",
       "  <thead>\n",
       "    <tr style=\"text-align: right;\">\n",
       "      <th></th>\n",
       "      <th>user_id</th>\n",
       "      <th>movie_id</th>\n",
       "      <th>rating</th>\n",
       "    </tr>\n",
       "  </thead>\n",
       "  <tbody>\n",
       "    <tr>\n",
       "      <th>0</th>\n",
       "      <td>196</td>\n",
       "      <td>242</td>\n",
       "      <td>0.4</td>\n",
       "    </tr>\n",
       "    <tr>\n",
       "      <th>1</th>\n",
       "      <td>305</td>\n",
       "      <td>242</td>\n",
       "      <td>0.8</td>\n",
       "    </tr>\n",
       "    <tr>\n",
       "      <th>2</th>\n",
       "      <td>6</td>\n",
       "      <td>242</td>\n",
       "      <td>0.6</td>\n",
       "    </tr>\n",
       "    <tr>\n",
       "      <th>3</th>\n",
       "      <td>234</td>\n",
       "      <td>242</td>\n",
       "      <td>0.6</td>\n",
       "    </tr>\n",
       "    <tr>\n",
       "      <th>4</th>\n",
       "      <td>63</td>\n",
       "      <td>242</td>\n",
       "      <td>0.4</td>\n",
       "    </tr>\n",
       "    <tr>\n",
       "      <th>...</th>\n",
       "      <td>...</td>\n",
       "      <td>...</td>\n",
       "      <td>...</td>\n",
       "    </tr>\n",
       "    <tr>\n",
       "      <th>99985</th>\n",
       "      <td>863</td>\n",
       "      <td>1679</td>\n",
       "      <td>0.4</td>\n",
       "    </tr>\n",
       "    <tr>\n",
       "      <th>99986</th>\n",
       "      <td>863</td>\n",
       "      <td>1678</td>\n",
       "      <td>0.0</td>\n",
       "    </tr>\n",
       "    <tr>\n",
       "      <th>99987</th>\n",
       "      <td>863</td>\n",
       "      <td>1680</td>\n",
       "      <td>0.2</td>\n",
       "    </tr>\n",
       "    <tr>\n",
       "      <th>99988</th>\n",
       "      <td>896</td>\n",
       "      <td>1681</td>\n",
       "      <td>0.4</td>\n",
       "    </tr>\n",
       "    <tr>\n",
       "      <th>99989</th>\n",
       "      <td>916</td>\n",
       "      <td>1682</td>\n",
       "      <td>0.4</td>\n",
       "    </tr>\n",
       "  </tbody>\n",
       "</table>\n",
       "<p>99990 rows × 3 columns</p>\n",
       "</div>"
      ],
      "text/plain": [
       "       user_id  movie_id  rating\n",
       "0          196       242     0.4\n",
       "1          305       242     0.8\n",
       "2            6       242     0.6\n",
       "3          234       242     0.6\n",
       "4           63       242     0.4\n",
       "...        ...       ...     ...\n",
       "99985      863      1679     0.4\n",
       "99986      863      1678     0.0\n",
       "99987      863      1680     0.2\n",
       "99988      896      1681     0.4\n",
       "99989      916      1682     0.4\n",
       "\n",
       "[99990 rows x 3 columns]"
      ]
     },
     "execution_count": 7,
     "metadata": {},
     "output_type": "execute_result"
    }
   ],
   "source": [
    "interaction_data"
   ]
  },
  {
   "cell_type": "code",
   "execution_count": 8,
   "metadata": {},
   "outputs": [
    {
     "data": {
      "text/html": [
       "<div>\n",
       "<style scoped>\n",
       "    .dataframe tbody tr th:only-of-type {\n",
       "        vertical-align: middle;\n",
       "    }\n",
       "\n",
       "    .dataframe tbody tr th {\n",
       "        vertical-align: top;\n",
       "    }\n",
       "\n",
       "    .dataframe thead th {\n",
       "        text-align: right;\n",
       "    }\n",
       "</style>\n",
       "<table border=\"1\" class=\"dataframe\">\n",
       "  <thead>\n",
       "    <tr style=\"text-align: right;\">\n",
       "      <th></th>\n",
       "      <th>user_id</th>\n",
       "      <th>movie_id</th>\n",
       "      <th>rating</th>\n",
       "    </tr>\n",
       "  </thead>\n",
       "  <tbody>\n",
       "    <tr>\n",
       "      <th>0</th>\n",
       "      <td>196</td>\n",
       "      <td>242</td>\n",
       "      <td>0.4</td>\n",
       "    </tr>\n",
       "    <tr>\n",
       "      <th>1</th>\n",
       "      <td>305</td>\n",
       "      <td>242</td>\n",
       "      <td>0.8</td>\n",
       "    </tr>\n",
       "    <tr>\n",
       "      <th>2</th>\n",
       "      <td>6</td>\n",
       "      <td>242</td>\n",
       "      <td>0.6</td>\n",
       "    </tr>\n",
       "    <tr>\n",
       "      <th>3</th>\n",
       "      <td>234</td>\n",
       "      <td>242</td>\n",
       "      <td>0.6</td>\n",
       "    </tr>\n",
       "    <tr>\n",
       "      <th>4</th>\n",
       "      <td>63</td>\n",
       "      <td>242</td>\n",
       "      <td>0.4</td>\n",
       "    </tr>\n",
       "  </tbody>\n",
       "</table>\n",
       "</div>"
      ],
      "text/plain": [
       "   user_id  movie_id  rating\n",
       "0      196       242     0.4\n",
       "1      305       242     0.8\n",
       "2        6       242     0.6\n",
       "3      234       242     0.6\n",
       "4       63       242     0.4"
      ]
     },
     "execution_count": 8,
     "metadata": {},
     "output_type": "execute_result"
    }
   ],
   "source": [
    "interaction_data.head()"
   ]
  },
  {
   "cell_type": "code",
   "execution_count": 9,
   "metadata": {},
   "outputs": [
    {
     "data": {
      "text/html": [
       "<div>\n",
       "<style scoped>\n",
       "    .dataframe tbody tr th:only-of-type {\n",
       "        vertical-align: middle;\n",
       "    }\n",
       "\n",
       "    .dataframe tbody tr th {\n",
       "        vertical-align: top;\n",
       "    }\n",
       "\n",
       "    .dataframe thead th {\n",
       "        text-align: right;\n",
       "    }\n",
       "</style>\n",
       "<table border=\"1\" class=\"dataframe\">\n",
       "  <thead>\n",
       "    <tr style=\"text-align: right;\">\n",
       "      <th></th>\n",
       "      <th>user_id</th>\n",
       "      <th>age</th>\n",
       "      <th>gender</th>\n",
       "      <th>occupation</th>\n",
       "      <th>zip_code</th>\n",
       "      <th>features</th>\n",
       "    </tr>\n",
       "  </thead>\n",
       "  <tbody>\n",
       "    <tr>\n",
       "      <th>0</th>\n",
       "      <td>196</td>\n",
       "      <td>49</td>\n",
       "      <td>1</td>\n",
       "      <td>20</td>\n",
       "      <td>55105</td>\n",
       "      <td>[49, 1, 20, 55105]</td>\n",
       "    </tr>\n",
       "    <tr>\n",
       "      <th>1</th>\n",
       "      <td>305</td>\n",
       "      <td>23</td>\n",
       "      <td>1</td>\n",
       "      <td>14</td>\n",
       "      <td>94086</td>\n",
       "      <td>[23, 1, 14, 94086]</td>\n",
       "    </tr>\n",
       "    <tr>\n",
       "      <th>2</th>\n",
       "      <td>6</td>\n",
       "      <td>42</td>\n",
       "      <td>1</td>\n",
       "      <td>6</td>\n",
       "      <td>98101</td>\n",
       "      <td>[42, 1, 6, 98101]</td>\n",
       "    </tr>\n",
       "    <tr>\n",
       "      <th>3</th>\n",
       "      <td>234</td>\n",
       "      <td>60</td>\n",
       "      <td>1</td>\n",
       "      <td>15</td>\n",
       "      <td>94702</td>\n",
       "      <td>[60, 1, 15, 94702]</td>\n",
       "    </tr>\n",
       "    <tr>\n",
       "      <th>4</th>\n",
       "      <td>63</td>\n",
       "      <td>31</td>\n",
       "      <td>1</td>\n",
       "      <td>11</td>\n",
       "      <td>75240</td>\n",
       "      <td>[31, 1, 11, 75240]</td>\n",
       "    </tr>\n",
       "  </tbody>\n",
       "</table>\n",
       "</div>"
      ],
      "text/plain": [
       "   user_id  age  gender  occupation zip_code            features\n",
       "0      196   49       1          20    55105  [49, 1, 20, 55105]\n",
       "1      305   23       1          14    94086  [23, 1, 14, 94086]\n",
       "2        6   42       1           6    98101   [42, 1, 6, 98101]\n",
       "3      234   60       1          15    94702  [60, 1, 15, 94702]\n",
       "4       63   31       1          11    75240  [31, 1, 11, 75240]"
      ]
     },
     "execution_count": 9,
     "metadata": {},
     "output_type": "execute_result"
    }
   ],
   "source": [
    "user_features.head()"
   ]
  },
  {
   "cell_type": "code",
   "execution_count": 10,
   "metadata": {},
   "outputs": [
    {
     "data": {
      "text/html": [
       "<div>\n",
       "<style scoped>\n",
       "    .dataframe tbody tr th:only-of-type {\n",
       "        vertical-align: middle;\n",
       "    }\n",
       "\n",
       "    .dataframe tbody tr th {\n",
       "        vertical-align: top;\n",
       "    }\n",
       "\n",
       "    .dataframe thead th {\n",
       "        text-align: right;\n",
       "    }\n",
       "</style>\n",
       "<table border=\"1\" class=\"dataframe\">\n",
       "  <thead>\n",
       "    <tr style=\"text-align: right;\">\n",
       "      <th></th>\n",
       "      <th>movie_id</th>\n",
       "      <th>movie_name</th>\n",
       "      <th>release_year</th>\n",
       "      <th>features</th>\n",
       "    </tr>\n",
       "  </thead>\n",
       "  <tbody>\n",
       "    <tr>\n",
       "      <th>0</th>\n",
       "      <td>242</td>\n",
       "      <td>Kolya</td>\n",
       "      <td>1997</td>\n",
       "      <td>[Kolya, 0, 0, 0, 0, 1, 0, 0, 0, 0, 0, 0, 0, 0,...</td>\n",
       "    </tr>\n",
       "    <tr>\n",
       "      <th>117</th>\n",
       "      <td>393</td>\n",
       "      <td>Mrs. Doubtfire</td>\n",
       "      <td>1993</td>\n",
       "      <td>[Mrs. Doubtfire, 0, 0, 0, 0, 1, 0, 0, 0, 0, 0,...</td>\n",
       "    </tr>\n",
       "    <tr>\n",
       "      <th>309</th>\n",
       "      <td>381</td>\n",
       "      <td>Muriel's Wedding</td>\n",
       "      <td>1994</td>\n",
       "      <td>[Muriel's Wedding, 0, 0, 0, 0, 1, 0, 0, 0, 0, ...</td>\n",
       "    </tr>\n",
       "    <tr>\n",
       "      <th>409</th>\n",
       "      <td>251</td>\n",
       "      <td>Shall We Dance?</td>\n",
       "      <td>1997</td>\n",
       "      <td>[Shall We Dance?, 0, 0, 0, 0, 1, 0, 0, 0, 0, 0...</td>\n",
       "    </tr>\n",
       "    <tr>\n",
       "      <th>455</th>\n",
       "      <td>655</td>\n",
       "      <td>Stand by Me</td>\n",
       "      <td>1986</td>\n",
       "      <td>[Stand by Me, 0, 1, 0, 0, 1, 0, 0, 1, 0, 0, 0,...</td>\n",
       "    </tr>\n",
       "  </tbody>\n",
       "</table>\n",
       "</div>"
      ],
      "text/plain": [
       "     movie_id        movie_name  release_year  \\\n",
       "0         242             Kolya          1997   \n",
       "117       393    Mrs. Doubtfire          1993   \n",
       "309       381  Muriel's Wedding          1994   \n",
       "409       251   Shall We Dance?          1997   \n",
       "455       655       Stand by Me          1986   \n",
       "\n",
       "                                              features  \n",
       "0    [Kolya, 0, 0, 0, 0, 1, 0, 0, 0, 0, 0, 0, 0, 0,...  \n",
       "117  [Mrs. Doubtfire, 0, 0, 0, 0, 1, 0, 0, 0, 0, 0,...  \n",
       "309  [Muriel's Wedding, 0, 0, 0, 0, 1, 0, 0, 0, 0, ...  \n",
       "409  [Shall We Dance?, 0, 0, 0, 0, 1, 0, 0, 0, 0, 0...  \n",
       "455  [Stand by Me, 0, 1, 0, 0, 1, 0, 0, 1, 0, 0, 0,...  "
      ]
     },
     "execution_count": 10,
     "metadata": {},
     "output_type": "execute_result"
    }
   ],
   "source": [
    "item_features.head()"
   ]
  },
  {
   "cell_type": "markdown",
   "metadata": {},
   "source": [
    "### Fit a LightFM dataset into our dataset"
   ]
  },
  {
   "cell_type": "code",
   "execution_count": 11,
   "metadata": {},
   "outputs": [],
   "source": [
    "from sklearn.model_selection import train_test_split\n",
    "from lightfm import LightFM\n",
    "from lightfm.data import Dataset\n",
    "import numpy as np\n",
    "\n",
    "# Initialize the LightFM dataset\n",
    "dataset = Dataset()\n",
    "\n",
    "# Fit the dataset to the users and items\n",
    "dataset.fit(\n",
    "    users=user_ids,\n",
    "    items=item_ids,\n",
    "    user_features=user_features['features'].explode(),\n",
    "    item_features=item_features['features'].explode())\n",
    "\n",
    "# Split the data\n",
    "train_data, test_data = train_test_split(\n",
    "    interaction_data, test_size=0.2, random_state=42)\n",
    "\n",
    "# Build the interaction matrices for training and testing\n",
    "(interactions_train, _) = dataset.build_interactions(\n",
    "    [(row['user_id'], row['movie_id'], row['rating']) for idx, row in train_data.iterrows()])\n",
    "(interactions_test, _) = dataset.build_interactions(\n",
    "    [(row['user_id'], row['movie_id'], row['rating']) for idx, row in test_data.iterrows()])\n",
    "\n",
    "# Build user and item feature matrices\n",
    "user_features_matrix = dataset.build_user_features(\n",
    "    [(row['user_id'], row['features']) for idx, row in user_features.iterrows()], normalize=False)\n",
    "item_features_matrix = dataset.build_item_features(\n",
    "    [(row['movie_id'], row['features']) for idx, row in item_features.iterrows()], normalize=False)"
   ]
  },
  {
   "cell_type": "markdown",
   "metadata": {},
   "source": [
    "## Train LightFM Model:"
   ]
  },
  {
   "cell_type": "markdown",
   "metadata": {},
   "source": [
    "Here, we're using Grid Search over these hyper-parameters:\n",
    "- Number of Components.\n",
    "- Learning Rate.\n",
    "- Epochs.\n",
    "\n",
    "Then we're calculating the F1-Score, and based on the best F1-Score, we pick the best combination for the model"
   ]
  },
  {
   "cell_type": "code",
   "execution_count": 9,
   "metadata": {},
   "outputs": [],
   "source": [
    "from lightfm import LightFM\n",
    "from lightfm.evaluation import precision_at_k, recall_at_k, auc_score\n",
    "\n",
    "# Define a range of hyperparameters for tuning\n",
    "n_components_options = [5, 10, 20, 40]\n",
    "learning_rate_options = [0.001, 0.01]\n",
    "epochs_options = [5, 10, 50]\n",
    "\n",
    "best_f1score = 0\n",
    "best_recall = 0\n",
    "best_precision = 0\n",
    "best_params = {}\n",
    "\n",
    "# Grid search\n",
    "for n_components in n_components_options:\n",
    "    for learning_rate in learning_rate_options:\n",
    "        for epoch in epochs_options:\n",
    "            model = LightFM(loss='warp', no_components=n_components,\n",
    "                            learning_rate=learning_rate)\n",
    "            model.fit(interactions_train, user_features=user_features_matrix,\n",
    "                      item_features=item_features_matrix, epochs=epoch)\n",
    "            \n",
    "            # Calculate scores\n",
    "            precision = precision_at_k(\n",
    "                model, interactions_test, user_features=user_features_matrix, item_features=item_features_matrix, k=10).mean()\n",
    "            recall = recall_at_k(model, interactions_test, user_features=user_features_matrix,\n",
    "                                 item_features=item_features_matrix, k=10).mean()\n",
    "            f1score = 2*precision*recall/(precision+recall)\n",
    "            \n",
    "            # Pick best score & update best parameters\n",
    "            if f1score > best_f1score:\n",
    "                best_f1score = f1score\n",
    "                best_precision = precision\n",
    "                best_recall = recall\n",
    "                best_params = {'n_components': n_components,\n",
    "                               'learning_rate': learning_rate, 'epochs': epoch}\n",
    "print(f\"Best Parameters: {best_params}\")"
   ]
  },
  {
   "cell_type": "markdown",
   "metadata": {},
   "source": [
    "### Create & fit the model with best parameters"
   ]
  },
  {
   "cell_type": "code",
   "execution_count": 10,
   "metadata": {},
   "outputs": [],
   "source": [
    "model = LightFM(loss='warp', no_components=best_params['n_components'],\n",
    "                learning_rate=best_params['learning_rate'])\n",
    "model.fit(interactions_train, user_features=user_features_matrix,\n",
    "          item_features=item_features_matrix, epochs=best_params['epochs'])\n",
    "\n",
    "auc = auc_score(model, interactions_test, user_features=user_features_matrix,\n",
    "                item_features=item_features_matrix).mean()"
   ]
  },
  {
   "cell_type": "markdown",
   "metadata": {},
   "source": [
    "## Save & Load the model checkpoint:"
   ]
  },
  {
   "cell_type": "markdown",
   "metadata": {},
   "source": [
    "#### Save:"
   ]
  },
  {
   "cell_type": "code",
   "execution_count": 13,
   "metadata": {},
   "outputs": [],
   "source": [
    "import pickle\n",
    "\n",
    "MODEL_CHECKPOINT_PATH = \"../models/CheckpointLightFM.pickle\"\n",
    "\n",
    "with open(MODEL_CHECKPOINT_PATH, 'wb') as p:\n",
    "    pickle.dump(model, p, protocol=pickle.HIGHEST_PROTOCOL)"
   ]
  },
  {
   "cell_type": "markdown",
   "metadata": {},
   "source": [
    "#### Load:"
   ]
  },
  {
   "cell_type": "code",
   "execution_count": 1,
   "metadata": {},
   "outputs": [
    {
     "name": "stderr",
     "output_type": "stream",
     "text": [
      "/Users/hamadasalhab/miniconda3/lib/python3.8/site-packages/lightfm/_lightfm_fast.py:9: UserWarning: LightFM was compiled without OpenMP support. Only a single thread will be used.\n",
      "  warnings.warn(\n"
     ]
    }
   ],
   "source": [
    "import pickle\n",
    "from lightfm import LightFM\n",
    "\n",
    "MODEL_CHECKPOINT_PATH = \"../models/CheckpointLightFM.pickle\"\n",
    "\n",
    "model = pickle.load(open(MODEL_CHECKPOINT_PATH, 'rb'))"
   ]
  },
  {
   "cell_type": "markdown",
   "metadata": {},
   "source": [
    "## Evaluate:"
   ]
  },
  {
   "cell_type": "code",
   "execution_count": 15,
   "metadata": {},
   "outputs": [
    {
     "name": "stdout",
     "output_type": "stream",
     "text": [
      "F1-Score: 0.12\n",
      "Area Under The Curve Score: 0.91\n",
      "Precision: 0.13\n",
      "Recall: 0.11\n"
     ]
    }
   ],
   "source": [
    "from lightfm.evaluation import precision_at_k, recall_at_k, auc_score\n",
    "\n",
    "auc = auc_score(model, interactions_test, user_features=user_features_matrix,\n",
    "                item_features=item_features_matrix).mean()\n",
    "\n",
    "precision = precision_at_k(\n",
    "    model, interactions_test, user_features=user_features_matrix, item_features=item_features_matrix, k=10).mean()\n",
    "\n",
    "recall = recall_at_k(model, interactions_test, user_features=user_features_matrix,\n",
    "                        item_features=item_features_matrix, k=10).mean()\n",
    "\n",
    "f1score = 2*precision*recall/(precision+recall)\n",
    "\n",
    "print(f\"F1-Score: {f1score:0.2}\")\n",
    "print(f\"Area Under The Curve Score: {auc:0.2}\")\n",
    "print(f\"Precision: {precision:0.2}\")\n",
    "print(f\"Recall: {recall:0.2}\")"
   ]
  },
  {
   "cell_type": "markdown",
   "metadata": {},
   "source": [
    "## Make recommendations:"
   ]
  },
  {
   "cell_type": "code",
   "execution_count": 2,
   "metadata": {},
   "outputs": [],
   "source": [
    "def sample_recommendation(user_id, model, dataset, item_features, n_items=10):\n",
    "    # Obtain the internal index for the user\n",
    "    internal_user_id = dataset.mapping()[0].get(user_id, None)\n",
    "    if internal_user_id is None:\n",
    "        raise ValueError(f\"User ID {user_id} not found in dataset\")\n",
    "\n",
    "    # Known positives: the items the user has already interacted with\n",
    "    known_positives = interaction_data[interaction_data['user_id']\n",
    "                                       == user_id]['movie_id'].values\n",
    "    internal_known_positives = [dataset.mapping()[2].get(\n",
    "        x) for x in known_positives if x in dataset.mapping()[2]]\n",
    "\n",
    "    # Movies our model predicts they will like (filtering out the known positives)\n",
    "    total_items = len(dataset.mapping()[2])  # Total number of items\n",
    "    all_items = np.array([i for i in range(total_items)\n",
    "                         if i not in internal_known_positives])\n",
    "    scores = model.predict(internal_user_id, all_items,\n",
    "                           user_features=user_features_matrix, item_features=item_features_matrix)\n",
    "\n",
    "    # Rescale the scores to a 1-5 range\n",
    "    min_score = scores.min()\n",
    "    max_score = scores.max()\n",
    "    rescaled_scores = 1 + (scores - min_score) * 4 / (max_score - min_score)\n",
    "\n",
    "    # Rank items by rescaled predicted scores and select top N\n",
    "    top_items_indices = np.argsort(-rescaled_scores)[:n_items]\n",
    "    top_items_scores = rescaled_scores[top_items_indices]\n",
    "    top_items = all_items[top_items_indices]\n",
    "\n",
    "    # Convert internal item indices back to movie IDs\n",
    "    external_top_items = [list(dataset.mapping()[2].keys())[list(\n",
    "        dataset.mapping()[2].values()).index(i)] for i in top_items]\n",
    "\n",
    "    # Map movie IDs to names and include predicted ratings\n",
    "    top_movies = item_features[item_features['movie_id'].isin(\n",
    "        external_top_items)][['movie_id', 'movie_name']]\n",
    "    top_movies['predicted_rating'] = top_movies['movie_id'].map(\n",
    "        dict(zip(external_top_items, top_items_scores))).round(2)\n",
    "\n",
    "    top_movies_sorted = top_movies.sort_values(\n",
    "        by='predicted_rating', ascending=False)\n",
    "\n",
    "    return top_movies_sorted\n"
   ]
  },
  {
   "cell_type": "code",
   "execution_count": 12,
   "metadata": {},
   "outputs": [
    {
     "name": "stdout",
     "output_type": "stream",
     "text": [
      "       movie_id                   movie_name  predicted_rating\n",
      "66135       137                    Big Night              5.00\n",
      "52504       276            Leaving Las Vegas              4.95\n",
      "9266        237                Jerry Maguire              4.91\n",
      "51028         9             Dead Man Walking              4.89\n",
      "65948       124                    Lone Star              4.89\n",
      "68307        15           Mr. Holland's Opus              4.89\n",
      "39353       508  People vs. Larry Flynt, The              4.83\n",
      "40908       475                Trainspotting              4.82\n",
      "50090       126          Spitfire Grill, The              4.68\n",
      "18878       294                    Liar Liar              4.67\n"
     ]
    }
   ],
   "source": [
    "sample_user_id = int(input('Please enter the user ID to recommend movies: '))\n",
    "\n",
    "top_movies_with_ratings = sample_recommendation(\n",
    "    sample_user_id, model, dataset, item_features, n_items=10)\n",
    "print(top_movies_with_ratings)"
   ]
  }
 ],
 "metadata": {
  "kernelspec": {
   "display_name": "pyenv",
   "language": "python",
   "name": "python3"
  },
  "language_info": {
   "codemirror_mode": {
    "name": "ipython",
    "version": 3
   },
   "file_extension": ".py",
   "mimetype": "text/x-python",
   "name": "python",
   "nbconvert_exporter": "python",
   "pygments_lexer": "ipython3",
   "version": "3.8.18"
  }
 },
 "nbformat": 4,
 "nbformat_minor": 2
}
